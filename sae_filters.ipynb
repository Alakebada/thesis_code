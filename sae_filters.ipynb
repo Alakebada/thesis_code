{
  "nbformat": 4,
  "nbformat_minor": 0,
  "metadata": {
    "colab": {
      "provenance": [],
      "authorship_tag": "ABX9TyP6cxr33Gg8UfwzXF0GYZVU",
      "include_colab_link": true
    },
    "kernelspec": {
      "name": "python3",
      "display_name": "Python 3"
    },
    "language_info": {
      "name": "python"
    }
  },
  "cells": [
    {
      "cell_type": "markdown",
      "metadata": {
        "id": "view-in-github",
        "colab_type": "text"
      },
      "source": [
        "<a href=\"https://colab.research.google.com/github/Alakebada/thesis_code/blob/main/sae_filters.ipynb\" target=\"_parent\"><img src=\"https://colab.research.google.com/assets/colab-badge.svg\" alt=\"Open In Colab\"/></a>"
      ]
    },
    {
      "cell_type": "code",
      "execution_count": null,
      "metadata": {
        "id": "m4MeI1ICZPK5"
      },
      "outputs": [],
      "source": [
        "#This file contains filters CFC filters recommended by SAE. Compare to butterworth\n",
        "#there will be no phase shift in the signal.\n",
        "\n",
        "#@author: komeilizadeh\n",
        "\n",
        "#based on:\n",
        "#      www.dtic.mil/get-tr-doc/pdf?AD=ADA293086\n",
        "#      http://zone.ni.com/reference/en-XX/help/370859J-01/crash/misc_cfc/\n",
        "#\"\"\"\n",
        "\n",
        "import numpy as np\n",
        "import matplotlib.pyplot as plt\n",
        "\n",
        "\n",
        "def sae_j211(x, samhz, corner, nsect=2):\n",
        "    \"\"\"\n",
        "    Inputs\n",
        "        x       upon entry, an array containing the unfiltered signal,\n",
        "                \" and replaced by the filtered signal upon return,\n",
        "        samhz   given sampling rate (Hz) of digital signal.\n",
        "        corner  given filter corner frequency (Hz) where the magnitude\n",
        "                is -3 dB (half-power point). This is equal to the class\n",
        "                CFC of the filter, divided by 0.6 factor. So if you want\n",
        "                CFC 1000 set corener 1000/0.6 = 1666.\n",
        "        nsect   given number of 2nd-order sections (pole-pairs). For the\n",
        "                J211 filters, there are 2 identical sections. do not change it.\n",
        "    Output\n",
        "        ynall2  filtered signal\n",
        "    \"\"\"\n",
        "    class_fil = 0.6*corner\n",
        "    ts = 1.00 / samhz\n",
        "    sr2 = np.sqrt(2.0)\n",
        "    wd = 2.0 * np.pi * class_fil * 2.0775\n",
        "    arg = wd * ts / 2.\n",
        "    wa = np.tan(arg)\n",
        "    wa2 = wa * wa\n",
        "    den = ( 1. + sr2 * wa + wa2 )\n",
        "    a0 = wa2 / den"
      ]
    }
  ]
}