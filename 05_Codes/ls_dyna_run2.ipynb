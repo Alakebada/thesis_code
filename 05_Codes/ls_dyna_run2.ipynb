{
  "nbformat": 4,
  "nbformat_minor": 0,
  "metadata": {
    "colab": {
      "provenance": [],
      "authorship_tag": "ABX9TyNn3njYYLVDb1VDneWphNic",
      "include_colab_link": true
    },
    "kernelspec": {
      "name": "python3",
      "display_name": "Python 3"
    },
    "language_info": {
      "name": "python"
    }
  },
  "cells": [
    {
      "cell_type": "markdown",
      "metadata": {
        "id": "view-in-github",
        "colab_type": "text"
      },
      "source": [
        "<a href=\"https://colab.research.google.com/github/Alakebada/thesis_code/blob/main/05_Codes/ls_dyna_run2.ipynb\" target=\"_parent\"><img src=\"https://colab.research.google.com/assets/colab-badge.svg\" alt=\"Open In Colab\"/></a>"
      ]
    },
    {
      "cell_type": "code",
      "execution_count": null,
      "metadata": {
        "id": "46SrUG5ZY9Dz"
      },
      "outputs": [],
      "source": [
        "##############################################################################\n",
        "# Author: Paolo Ascia                                                        #\n",
        "# Date: March 2022                                                           #\n",
        "##############################################################################\n",
        "# File: LS-Dyna run.py                                                       #\n",
        "###########                                                                  #\n",
        "# All functions to run LS-Dyna                                               #\n",
        "##############################################################################\n",
        "\n",
        "##############################################################################\n",
        "# Imports\n",
        "##########\n",
        "#Libraries\n",
        "import subprocess\n",
        "import sys\n",
        "\n",
        "# Define solver position\n",
        "# Edit also line 36\n",
        "solver = \"/opt/LSDYNA/platform_mpi/bin/mpirun\"\n",
        "\n",
        "# Executing LS-Dyna Solver\n",
        "try:\n",
        "    subprocess.check_call([solver,\"-np\",\"14\", \"/opt/LSDYNA/mppdyna/mppdyna\", 'i=00_Main.k'], cwd=sys.argv)\n",
        "# Checking simulation termination\n",
        "    m_file = open(sys.argv + '/d3hsp','r')\n",
        "    if 'N o r m a l    t e r m i n a t i o n' in m_file.readlines()[-1]:\n",
        "        print('Normal termination')\n",
        "    else:\n",
        "        print('Error termination')\n",
        "        sys.exit()\n",
        "    m_file.close()\n",
        "# If LS-Dyna do not launch, return error\n",
        "except:\n",
        "    print('Simulation did not start')\n",
        "    sys.exit()"
      ]
    }
  ]
}